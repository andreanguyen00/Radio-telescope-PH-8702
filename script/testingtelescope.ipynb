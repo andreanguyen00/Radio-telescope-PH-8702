{
 "cells": [
  {
   "cell_type": "code",
   "execution_count": 7,
   "metadata": {},
   "outputs": [
    {
     "name": "stderr",
     "output_type": "stream",
     "text": [
      "gr-osmosdr 0.2.0.0 (0.2.0) gnuradio 3.10.7.0\n",
      "built-in source types: file rtl rtl_tcp uhd hackrf bladerf rfspace airspy airspyhf soapy redpitaya \n",
      "Using device #0 Realtek RTL2838UHIDIR SN: 00000001\n",
      "Found Rafael Micro R820T tuner\n",
      "[R82XX] PLL not locked!\n",
      "[R82XX] PLL not locked!\n"
     ]
    },
    {
     "name": "stdout",
     "output_type": "stream",
     "text": [
      "\n",
      "[+] Data acquisition complete. Observation saved as: obs1420tel300ch4096rf50beta.dat\n"
     ]
    }
   ],
   "source": [
    "import virgo\n",
    "\n",
    "# Define observation parameters for hydrogen line, telescope antenna not attached !!! \n",
    "obs = {\n",
    "    'dev_args': '',\n",
    "    'rf_gain': 50,\n",
    "    'if_gain': 25,\n",
    "    'bb_gain': 18,\n",
    "    'frequency': 1420e6, # 'frequency': 1420e6,\n",
    "    'bandwidth': 2.4e6, # 2.4e6,\n",
    "    'channels': 4096, # org 2048\n",
    "    't_sample': 0.1, # org 1\n",
    "    'duration': 300,\n",
    "    'loc': '',\n",
    "    'ra_dec': '',\n",
    "    'az_alt': ''\n",
    "}\n",
    "\n",
    "\n",
    "# Begin data acquisition\n",
    "virgo.observe(obs_parameters=obs, obs_file='calibrationNoS.dat')\n",
    "\n",
    "# Plotting noise profile\n",
    "virgo.plot(obs_parameters=obs, n=10, m=35, f_rest=1420.4057517667e6,\n",
    "           vlsr=False, meta=False, avg_ylim=(-20,0), cal_ylim=(-20,200),\n",
    "           obs_file='calibrationNoS.dat', rfi=[], \n",
    "           dB=True, spectra_csv='specNoS.csv', plot_file='plot1420NoS.png')"
   ]
  },
  {
   "cell_type": "code",
   "execution_count": 20,
   "metadata": {},
   "outputs": [],
   "source": [
    "# Define observation parameters for hydrogen line, telescope antenna attached !!!\n",
    "obs = {\n",
    "    'dev_args': '',\n",
    "    'rf_gain': 50,\n",
    "    'if_gain': 25,\n",
    "    'bb_gain': 18,\n",
    "    'frequency': 1420e6, # 'frequency': 1420e6,\n",
    "    'bandwidth': 2.4e6, # 2.4e6,\n",
    "    'channels': 4096, # org 2048\n",
    "    't_sample': 0.1, # org 1\n",
    "    'duration': 300,\n",
    "    'loc': '',\n",
    "    'ra_dec': '',\n",
    "    'az_alt': ''\n",
    "}\n",
    "\n",
    "# Begin data acquisition\n",
    "virgo.observe(obs_parameters=obs, obs_file='observation.dat')\n",
    "\n",
    "# Plotting average spectrum and calibrated spectrum\n",
    "virgo.plot(obs_parameters=obs, n=10, m=35, f_rest=1420.4057517667e6,\n",
    "           vlsr=False, meta=False, avg_ylim=(-20,0), cal_ylim=(-20,200),\n",
    "           obs_file='observation.dat', cal_file='calibrationNoS.dat', rfi=[], \n",
    "           dB=True, spectra_csv='spec1420cal.csv', plot_file='plot1420cal.png')"
   ]
  }
 ],
 "metadata": {
  "kernelspec": {
   "display_name": "radioconda",
   "language": "python",
   "name": "python3"
  },
  "language_info": {
   "codemirror_mode": {
    "name": "ipython",
    "version": 3
   },
   "file_extension": ".py",
   "mimetype": "text/x-python",
   "name": "python",
   "nbconvert_exporter": "python",
   "pygments_lexer": "ipython3",
   "version": "3.10.12"
  }
 },
 "nbformat": 4,
 "nbformat_minor": 2
}
